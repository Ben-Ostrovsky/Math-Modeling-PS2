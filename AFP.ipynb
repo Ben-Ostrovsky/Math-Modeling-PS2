{
 "cells": [
  {
   "cell_type": "code",
   "execution_count": 8,
   "metadata": {},
   "outputs": [],
   "source": [
    "def av(lst):\n",
    "    return sum(lst) / len(lst)\n",
    "#SAFE\n",
    "afWing=[1.72, 1.64, 1.74, 1.70, 1.82, 1.90, 1.92, 2.09]\n",
    "afAnt =[1.24, 1.38, 1.36, 1.40, 1.38, 1.48, 1.54, 1.56]\n",
    "#DANGEROUS\n",
    "apfWing=[1.78, 1.86, 1.96, 2.00, 1.96]\n",
    "apfAnt =[1.14, 1.20, 1.30, 1.26, 1.18]\n",
    "\n"
   ]
  },
  {
   "cell_type": "code",
   "execution_count": 9,
   "metadata": {},
   "outputs": [
    {
     "name": "stdout",
     "output_type": "stream",
     "text": [
      "[1.3870967741935483, 1.1884057971014492, 1.2794117647058822, 1.2142857142857144, 1.318840579710145, 1.2837837837837838, 1.2467532467532467, 1.3397435897435896]\n",
      "[1.56140350877193, 1.55, 1.5076923076923077, 1.5873015873015872, 1.6610169491525424]\n",
      "AF LINEAR RELATION AVERAGE: 1.28229015628467\n",
      "APF LINEAR RELATION AVERAGE: 1.5734828705836734\n"
     ]
    }
   ],
   "source": [
    "afList=[]\n",
    "apfList=[]\n",
    "for num in range(len(afAnt)):\n",
    "    afList.append(afWing[num]/afAnt[num])\n",
    "    if len(apfWing)>num:\n",
    "        apfList.append(apfWing[num]/apfAnt[num])\n",
    "\n",
    "\n",
    "print(afList)\n",
    "print(apfList)\n",
    "\n",
    "\n",
    "print(f'AF LINEAR RELATION AVERAGE: {av(afList)}')\n",
    "print(f'APF LINEAR RELATION AVERAGE: {av(apfList)}')"
   ]
  },
  {
   "cell_type": "code",
   "execution_count": 10,
   "metadata": {},
   "outputs": [
    {
     "name": "stdout",
     "output_type": "stream",
     "text": [
      "[1.4516129032258065, 1.4375, 1.4571428571428573]\n",
      "CONFIRMED APF\n",
      "CONFIRMED APF\n",
      "CONFIRMED APF\n"
     ]
    }
   ],
   "source": [
    "newWing=[1.8, 1.84, 2.04]\n",
    "newAnt= [1.24, 1.28, 1.4]\n",
    "newList=[]\n",
    "for num in range(len(newWing)):\n",
    "    newList.append(newWing[num]/newAnt[num])\n",
    "print(newList)\n",
    "apfA=av(apfList)\n",
    "afA=av(afList)\n",
    "for elem in newList:\n",
    "    if (apfA-elem)<(elem-afA):\n",
    "        print(f'CONFIRMED APF')\n",
    "    else:\n",
    "        print(f'CONFIRMED AF')\n"
   ]
  }
 ],
 "metadata": {
  "kernelspec": {
   "display_name": "Python 3.9.12 ('base')",
   "language": "python",
   "name": "python3"
  },
  "language_info": {
   "codemirror_mode": {
    "name": "ipython",
    "version": 3
   },
   "file_extension": ".py",
   "mimetype": "text/x-python",
   "name": "python",
   "nbconvert_exporter": "python",
   "pygments_lexer": "ipython3",
   "version": "3.9.12"
  },
  "orig_nbformat": 4,
  "vscode": {
   "interpreter": {
    "hash": "211353ec85ae5036c502faad519095a97a2593b237d819f8ea5694b789afa91f"
   }
  }
 },
 "nbformat": 4,
 "nbformat_minor": 2
}
